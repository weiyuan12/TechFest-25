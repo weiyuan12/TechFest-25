{
 "cells": [
  {
   "cell_type": "markdown",
   "metadata": {},
   "source": [
    "# Comparing GPT-4o-mini LLM and FactChecking Agent Designed\n",
    "\n",
    "We ran the same query with one of the latest news in Singapore: \n",
    "\"Students applying for admission to JCs from 2028 will only need 5 subjects instead of 6 at the O-level examinations. Is this true?\"\n",
    "\n",
    "GPT-4o-mini does not have the knowledge due to its limited training data, however, with external web search tools, it is now able to retrieve relevant information and return an up-to-date information. "
   ]
  },
  {
   "cell_type": "code",
   "execution_count": 8,
   "metadata": {},
   "outputs": [
    {
     "name": "stdout",
     "output_type": "stream",
     "text": [
      "As of my last knowledge update in October 2023, there hasn't been any official announcement or widely recognized policy change stating that students applying for admission to Junior Colleges (JCs) from 2028 will only need 5 O-level subjects instead of 6. Admission requirements can vary by institution and may change over time, so it's important to check the latest information from the relevant educational authorities or the individual JCs themselves for the most accurate and current details.\n"
     ]
    }
   ],
   "source": [
    "from langchain_openai import ChatOpenAI \n",
    "\n",
    "llm = ChatOpenAI(model=\"gpt-4o-mini\")\n",
    "response = llm.invoke(\"Students applying for admission to JCs from 2028 will only need 5 subjects instead of 6 at the O-level examinations. Is this true?\")\n",
    "\n",
    "print(response.model_dump().get('content'))"
   ]
  },
  {
   "cell_type": "code",
   "execution_count": 10,
   "metadata": {},
   "outputs": [
    {
     "name": "stdout",
     "output_type": "stream",
     "text": [
      "{'category': 'info', 'truthscore': 5, 'reasoning': 'The information is accurate as it has been confirmed by multiple sources that students applying for admission to junior colleges (JCs) from 2028 will only need to present five subjects instead of the current six at the O-level examinations. This change is part of a new admission policy.', 'citations': ['https://www.channelnewsasia.com/singapore/junior-college-admission-2028-o-levels-5-subjects-123456', 'https://www.straitstimes.com/singapore/education/junior-colleges-to-require-5-o-level-subjects-from-2028']}\n"
     ]
    }
   ],
   "source": [
    "from graph import create_agent_graph\n",
    "from typing import Any \n",
    "\n",
    "user_input = \"Students applying for admission to JCs from 2028 will only need 5 subjects instead of 6 at the O-level examinations. Is this true?\"\n",
    "\n",
    "agent_graph = create_agent_graph()\n",
    "        \n",
    "config: dict[str, Any] = {\"configurable\": {\"thread_id\": \"1\"}}\n",
    "result = agent_graph.invoke({\"messages\": [user_input]}, config)\n",
    "# print(result)\n",
    "structured_response = result.get('structured_response')\n",
    "# print(structured_response.dict())\n",
    "print(structured_response.model_dump())"
   ]
  }
 ],
 "metadata": {
  "kernelspec": {
   "display_name": ".venv",
   "language": "python",
   "name": "python3"
  },
  "language_info": {
   "codemirror_mode": {
    "name": "ipython",
    "version": 3
   },
   "file_extension": ".py",
   "mimetype": "text/x-python",
   "name": "python",
   "nbconvert_exporter": "python",
   "pygments_lexer": "ipython3",
   "version": "3.12.7"
  }
 },
 "nbformat": 4,
 "nbformat_minor": 2
}
